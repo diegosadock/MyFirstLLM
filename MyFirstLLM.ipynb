{
  "nbformat": 4,
  "nbformat_minor": 0,
  "metadata": {
    "colab": {
      "provenance": [],
      "authorship_tag": "ABX9TyPaLDMB0A9sq+9GaEMGNRwJ",
      "include_colab_link": true
    },
    "kernelspec": {
      "name": "python3",
      "display_name": "Python 3"
    },
    "language_info": {
      "name": "python"
    }
  },
  "cells": [
    {
      "cell_type": "markdown",
      "metadata": {
        "id": "view-in-github",
        "colab_type": "text"
      },
      "source": [
        "<a href=\"https://colab.research.google.com/github/diegosadock/MyFirstLLM/blob/main/MyFirstLLM.ipynb\" target=\"_parent\"><img src=\"https://colab.research.google.com/assets/colab-badge.svg\" alt=\"Open In Colab\"/></a>"
      ]
    },
    {
      "cell_type": "code",
      "execution_count": 1,
      "metadata": {
        "id": "cXuvFy6Q5GbY"
      },
      "outputs": [],
      "source": [
        "!pip install -U -q google-generativeai"
      ]
    },
    {
      "cell_type": "code",
      "source": [
        "import google.generativeai as genai\n",
        "\n",
        "GOOGLE_API_KEY=\"Cole sua API KEY\"\n",
        "genai.configure(api_key=GOOGLE_API_KEY)"
      ],
      "metadata": {
        "id": "gzJBgp3Q6Ui3"
      },
      "execution_count": 2,
      "outputs": []
    },
    {
      "cell_type": "markdown",
      "source": [
        "Listar os modelos disponíveis"
      ],
      "metadata": {
        "id": "mqoXRKX46wAc"
      }
    },
    {
      "cell_type": "code",
      "source": [
        "for m in genai.list_models():\n",
        "  if 'generateContent' in m.supported_generation_methods:\n",
        "    print(m.name)"
      ],
      "metadata": {
        "colab": {
          "base_uri": "https://localhost:8080/",
          "height": 139
        },
        "id": "BWAmUPbH6tLZ",
        "outputId": "46dc4534-ade9-4e86-8afa-5cbcb0545274"
      },
      "execution_count": 3,
      "outputs": [
        {
          "output_type": "stream",
          "name": "stdout",
          "text": [
            "models/gemini-1.0-pro\n",
            "models/gemini-1.0-pro-001\n",
            "models/gemini-1.0-pro-latest\n",
            "models/gemini-1.0-pro-vision-latest\n",
            "models/gemini-1.5-pro-latest\n",
            "models/gemini-pro\n",
            "models/gemini-pro-vision\n"
          ]
        }
      ]
    },
    {
      "cell_type": "code",
      "source": [
        "generation_config = {\n",
        "    \"candidate_count\": 1,\n",
        "    \"temperature\": 0.9\n",
        "}"
      ],
      "metadata": {
        "id": "4_mIueek9ekH"
      },
      "execution_count": 4,
      "outputs": []
    },
    {
      "cell_type": "code",
      "source": [
        "safety_settings = {\n",
        "    \"HARASSMENT\": \"BLOCK_NONE\",\n",
        "    \"HATE\": \"BLOCK_NONE\",\n",
        "    \"SEXUAL\": \"BLOCK_NONE\",\n",
        "    \"DANGEROUS\": \"BLOCK_NONE\"\n",
        "}"
      ],
      "metadata": {
        "id": "KnMGiIBk-PzQ"
      },
      "execution_count": 6,
      "outputs": []
    },
    {
      "cell_type": "markdown",
      "source": [
        "Inicializando o modelo"
      ],
      "metadata": {
        "id": "93YbtD9y_JUk"
      }
    },
    {
      "cell_type": "code",
      "source": [
        "model = genai.GenerativeModel(model_name=\"gemini-1.0-pro\",\n",
        "                              safety_settings=safety_settings,\n",
        "                              generation_config=generation_config)"
      ],
      "metadata": {
        "id": "Ncn7_wGD_Kg1"
      },
      "execution_count": 7,
      "outputs": []
    },
    {
      "cell_type": "code",
      "source": [
        "response = model.generate_content(\"Vamos aprender conteúdo sobre IA. Me dê sugestões.\")\n",
        "print(response.text)"
      ],
      "metadata": {
        "colab": {
          "base_uri": "https://localhost:8080/",
          "height": 798
        },
        "id": "5IIQVLjC_3cG",
        "outputId": "099433e8-9577-430f-fdeb-8b8eee6602dc"
      },
      "execution_count": 8,
      "outputs": [
        {
          "output_type": "stream",
          "name": "stdout",
          "text": [
            "**Introdução à Inteligência Artificial (IA)**\n",
            "\n",
            "* Definição e escopo da IA\n",
            "* Tipos de IA: Aprendizado de Máquina, Aprendizado Profundo, Processamento de Linguagem Natural\n",
            "* Aplicações da IA em vários setores\n",
            "\n",
            "**Aprendizado de Máquina (ML)**\n",
            "\n",
            "* Algoritmos de ML: Regressão, Classificação, Agrupamento\n",
            "* Treinamento e avaliação de modelos de ML\n",
            "* Engenharia de recursos e seleção de dados\n",
            "* Técnicas de ML supervisionadas e não supervisionadas\n",
            "\n",
            "**Aprendizado Profundo (DL)**\n",
            "\n",
            "* Redes Neurais e Arquiteturas Profundas\n",
            "* Treinamento e arquitetura de redes neurais\n",
            "* Técnicas de otimização e regularização\n",
            "* Aplicações do DL em visão computacional, processamento de linguagem natural e muito mais\n",
            "\n",
            "**Processamento de Linguagem Natural (PNL)**\n",
            "\n",
            "* Fundamentos da PNL: Léxico, Sintaxe, Semântica\n",
            "* Modelos de linguagem e processamento de texto\n",
            "* Análise de sentimento, extração de informações e geração de texto\n",
            "* Aplicações da PNL em chatbots, pesquisa de informações e tradução automática\n",
            "\n",
            "**Ética e Implicações Sociais da IA**\n",
            "\n",
            "* Preocupações éticas relacionadas à IA: Viés, Privacidade, Desemprego\n",
            "* Implicações sociais da IA: Automatização, Mercado de Trabalho, Desigualdade\n",
            "* Diretrizes e regulamentos éticos para o desenvolvimento e uso da IA\n",
            "\n",
            "**Ferramentas e Quadros para IA**\n",
            "\n",
            "* Bibliotecas de IA: Tensorflow, Keras, PyTorch\n",
            "* Quadros de IA: Azure ML, Google Cloud ML, AWS SageMaker\n",
            "* Plataformas de IA como Serviço (AIaaS): IBM Watson, GCP AI Platform, Azure Cognitive Services\n",
            "\n",
            "**Tendências e Avanços Futuros em IA**\n",
            "\n",
            "* IA Conversacional e Agentes Inteligentes\n",
            "* IA de Borda e Dispositivos Inteligentes\n",
            "* Aprendizado Autossupervisionado e Representação Automática\n",
            "* IA Explicável e Interpretável\n"
          ]
        }
      ]
    },
    {
      "cell_type": "code",
      "source": [
        "chat = model.start_chat(history=[])"
      ],
      "metadata": {
        "id": "IWxTu2-FDlOk"
      },
      "execution_count": 9,
      "outputs": []
    },
    {
      "cell_type": "code",
      "source": [
        "prompt = input(\"Digite alguma coisa: \")\n",
        "\n",
        "while prompt != \"fim\":\n",
        "  response = chat.send_message(prompt)\n",
        "  print(\"Resposta: \", response.text, \"\\n\")\n",
        "  prompt = input(\"Digite alguma coisa: \")"
      ],
      "metadata": {
        "colab": {
          "base_uri": "https://localhost:8080/",
          "height": 243
        },
        "id": "yTr2ixOwEFEE",
        "outputId": "41b822e0-63e1-4f0a-87ae-db41a82eea79"
      },
      "execution_count": 11,
      "outputs": [
        {
          "name": "stdout",
          "output_type": "stream",
          "text": [
            "Digite alguma coisa Qual é a capital do Japão?\n",
            "Resposta:  Tóquio \n",
            "\n",
            "Digite alguma coisaQual é a comida típica desse país?\n",
            "Resposta:  Sushi \n",
            "\n",
            "Digite alguma coisaMeu primo nasceu nessa cidade, qual é a nacionalidade dele?\n",
            "Resposta:  Japonesa \n",
            "\n",
            "Digite alguma coisaE qual é a população dessa cidade?\n",
            "Resposta:  Cerca de 37,34 milhões (estimativa de 2023) \n",
            "\n",
            "Digite alguma coisafim\n"
          ]
        }
      ]
    },
    {
      "cell_type": "code",
      "source": [
        "import textwrap\n",
        "from IPython.display import display\n",
        "from IPython.display import Markdown\n",
        "\n",
        "def to_markdown(text):\n",
        "  text = text.replace('*', ' *')\n",
        "  return Markdown(textwrap.indent(text, '> ', predicate=lambda _: True))\n",
        "\n",
        "for message in chat.history:\n",
        "  display(to_markdown(f'**{message.role}**: {message.parts[0].text}'))\n",
        "  print('-------------------------------------------------')\n",
        "\n"
      ],
      "metadata": {
        "colab": {
          "base_uri": "https://localhost:8080/",
          "height": 519
        },
        "id": "zAQIt0SPHn_s",
        "outputId": "69738f0e-566f-4269-f06f-887fd348a941"
      },
      "execution_count": 12,
      "outputs": [
        {
          "output_type": "display_data",
          "data": {
            "text/plain": [
              "<IPython.core.display.Markdown object>"
            ],
            "text/markdown": ">  * *user * *: Qual é a capital do Japão?"
          },
          "metadata": {}
        },
        {
          "output_type": "stream",
          "name": "stdout",
          "text": [
            "-------------------------------------------------\n"
          ]
        },
        {
          "output_type": "display_data",
          "data": {
            "text/plain": [
              "<IPython.core.display.Markdown object>"
            ],
            "text/markdown": ">  * *model * *: Tóquio"
          },
          "metadata": {}
        },
        {
          "output_type": "stream",
          "name": "stdout",
          "text": [
            "-------------------------------------------------\n"
          ]
        },
        {
          "output_type": "display_data",
          "data": {
            "text/plain": [
              "<IPython.core.display.Markdown object>"
            ],
            "text/markdown": ">  * *user * *: Qual é a comida típica desse país?"
          },
          "metadata": {}
        },
        {
          "output_type": "stream",
          "name": "stdout",
          "text": [
            "-------------------------------------------------\n"
          ]
        },
        {
          "output_type": "display_data",
          "data": {
            "text/plain": [
              "<IPython.core.display.Markdown object>"
            ],
            "text/markdown": ">  * *model * *: Sushi"
          },
          "metadata": {}
        },
        {
          "output_type": "stream",
          "name": "stdout",
          "text": [
            "-------------------------------------------------\n"
          ]
        },
        {
          "output_type": "display_data",
          "data": {
            "text/plain": [
              "<IPython.core.display.Markdown object>"
            ],
            "text/markdown": ">  * *user * *: Meu primo nasceu nessa cidade, qual é a nacionalidade dele?"
          },
          "metadata": {}
        },
        {
          "output_type": "stream",
          "name": "stdout",
          "text": [
            "-------------------------------------------------\n"
          ]
        },
        {
          "output_type": "display_data",
          "data": {
            "text/plain": [
              "<IPython.core.display.Markdown object>"
            ],
            "text/markdown": ">  * *model * *: Japonesa"
          },
          "metadata": {}
        },
        {
          "output_type": "stream",
          "name": "stdout",
          "text": [
            "-------------------------------------------------\n"
          ]
        },
        {
          "output_type": "display_data",
          "data": {
            "text/plain": [
              "<IPython.core.display.Markdown object>"
            ],
            "text/markdown": ">  * *user * *: E qual é a população dessa cidade?"
          },
          "metadata": {}
        },
        {
          "output_type": "stream",
          "name": "stdout",
          "text": [
            "-------------------------------------------------\n"
          ]
        },
        {
          "output_type": "display_data",
          "data": {
            "text/plain": [
              "<IPython.core.display.Markdown object>"
            ],
            "text/markdown": ">  * *model * *: Cerca de 37,34 milhões (estimativa de 2023)"
          },
          "metadata": {}
        },
        {
          "output_type": "stream",
          "name": "stdout",
          "text": [
            "-------------------------------------------------\n"
          ]
        }
      ]
    }
  ]
}